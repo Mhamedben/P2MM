{
 "cells": [
  {
   "cell_type": "markdown",
   "metadata": {},
   "source": [
    "# Web Mining and Applied NLP (44-620)\n",
    "\n",
    "## Python Notebooks, Basics, and Data Structures\n",
    "\n",
    "### Student Name: Maatou Mhamed\n",
    "\n",
    "Perform the tasks described in the Markdown cells below.  When you have completed the assignment make sure your code cells have all been run (and have output beneath them) and ensure you have committed and pushed ALL of your changes to your assignment repository.\n",
    "\n",
    "Every question that requires you to write code will have a code cell underneath it; you may either write your entire solution in that cell or write it in a python file (`.py`), then import and run the appropriate code to answer the question.\n",
    "\n",
    "Do not use external modules (`math`, etc) for this assignment unless you are explicitly instructed to, though you may use built in python functions (`min`, `max`, etc) as you wish."
   ]
  },
  {
   "cell_type": "markdown",
   "metadata": {},
   "source": [
    "1. Modify the Markdown cell above to put your name after \"Student Name:\"; you will be expected to do this in all assignments presented in this format for this class."
   ]
  },
  {
   "cell_type": "markdown",
   "metadata": {},
   "source": [
    "2. Write code that divides any two numbers, stores the result in a variable, and prints the result with an appropriate label."
   ]
  },
  {
   "cell_type": "code",
   "execution_count": 20,
   "metadata": {},
   "outputs": [
    {
     "name": "stdout",
     "output_type": "stream",
     "text": [
      "The result of dividing 50 by 2 is: 25.0\n"
     ]
    }
   ],
   "source": [
    "# Function to divide two numbers\n",
    "def divide_numbers(num1, num2):\n",
    "    # Check for division by zero\n",
    "    if num2 == 0:\n",
    "        return \"Error\"\n",
    "    else:\n",
    "        result = num1 / num2\n",
    "        return result\n",
    "\n",
    "# Example numbers\n",
    "number1 = 50\n",
    "number2 = 2\n",
    "\n",
    "# Perform division\n",
    "division_result = divide_numbers(number1, number2)\n",
    "\n",
    "# Print the result with a label\n",
    "print(f\"The result of dividing {number1} by {number2} is: {division_result}\")"
   ]
  },
  {
   "cell_type": "markdown",
   "metadata": {},
   "source": [
    "3. Using loops (and potentially conditionals), write Python code that prints the factorial of each integer from 1 through 10 (which you can store in a variable if you want). The factorial of an integer is the product of all of the integers of 1 through the number. Print the result with an appropriate label."
   ]
  },
  {
   "cell_type": "code",
   "execution_count": 28,
   "metadata": {},
   "outputs": [
    {
     "name": "stdout",
     "output_type": "stream",
     "text": [
      "The factorial of 1 is: 1\n",
      "The factorial of 2 is: 2\n",
      "The factorial of 3 is: 6\n",
      "The factorial of 4 is: 24\n",
      "The factorial of 5 is: 120\n",
      "The factorial of 6 is: 720\n",
      "The factorial of 7 is: 5040\n",
      "The factorial of 8 is: 40320\n",
      "The factorial of 9 is: 362880\n",
      "The factorial of 10 is: 3628800\n"
     ]
    }
   ],
   "source": [
    "# Function to calculate factorial\n",
    "def factorial(n):\n",
    "    result = 1\n",
    "    for i in range(1, n + 1):\n",
    "        result *= i\n",
    "    return result\n",
    "\n",
    "# Loop through integers from 1 to 10 and print their factorials\n",
    "for number in range(1, 11):\n",
    "    fact = factorial(number)\n",
    "    print(f\"The factorial of {number} is: {fact}\")"
   ]
  },
  {
   "cell_type": "markdown",
   "metadata": {},
   "source": [
    "4. Write a python function that takes a single parameter and calculates and returns the average (mean) of the values in the parameter (which you may assume is iterable).  Show that your function works by printing the result of calling the function on the list in the cell below."
   ]
  },
  {
   "cell_type": "code",
   "execution_count": 35,
   "metadata": {},
   "outputs": [
    {
     "name": "stdout",
     "output_type": "stream",
     "text": [
      "The average is: 0.0\n"
     ]
    }
   ],
   "source": [
    "def calculate_average(values):\n",
    "    if not values:\n",
    "        return 0  # Handle the case of an empty iterable\n",
    "    total = sum(values)\n",
    "    count = len(values)\n",
    "    average = total / count\n",
    "    return average\n",
    "\n",
    "# Test List\n",
    "testlist = [1,-1,2,-2,3,-3,4,-4]\n",
    "result = calculate_average(testlist)\n",
    "print(\"The average is:\", result)"
   ]
  },
  {
   "cell_type": "markdown",
   "metadata": {},
   "source": [
    "5. Using your mean function above, write a function that calculates the variance of the list of numbers (see https://en.wikipedia.org/wiki/Variance for more information on the formula). In short:\n",
    "* subtract the mean of the elements in the list from every element in the list; store these values in a new list\n",
    "* square every element in the new list and sum the elements together\n",
    "* divide the resulting number by N (where N is the length of the original list)\n",
    "\n",
    "Show the result of calling your function in the lists in the code cell. You must use one or more list comprehensions or map/filter in your code.\n"
   ]
  },
  {
   "cell_type": "code",
   "execution_count": 41,
   "metadata": {},
   "outputs": [
    {
     "name": "stdout",
     "output_type": "stream",
     "text": [
      "Variance of list1: 1.13973309\n",
      "Variance of list2: 0.9257232841\n"
     ]
    }
   ],
   "source": [
    "# Calculate mean function\n",
    "def calculate_average(numbers):\n",
    "    if not numbers:  \n",
    "        return 0\n",
    "    total = sum(numbers)\n",
    "    count = len(numbers)\n",
    "    average = total / count\n",
    "    return average\n",
    "\n",
    "# Define a function to calculate the variance\n",
    "def calculate_variance(numbers):\n",
    "    # Calculate the mean using the calculate_average function\n",
    "    mean = calculate_average(numbers)\n",
    "    \n",
    "    # Step 1: Subtract the mean from each element and store in a new list\n",
    "    differences = [x - mean for x in numbers]\n",
    "    \n",
    "    # Step 2: Square each element in the differences list\n",
    "    squared_diffs = [d ** 2 for d in differences]\n",
    "    \n",
    "    # Step 3: Sum the squared differences and divide by the length of the list\n",
    "    variance = sum(squared_diffs) / len(numbers)\n",
    "    \n",
    "    return variance\n",
    "\n",
    "# Test the function with lists\n",
    "list1 = [ 5.670e-1, -1.480e+0, -5.570e-1, -1.470e+0, 7.340e-1, 1.050e+0, 4.480e-1, 2.570e-1, -1.970e+0, -1.460e+0]\n",
    "list2 = [-1.780e+0, 2.640e-1, 1.160e+0, 9.080e-1, 1.780e+0, 1.080e+0, 1.050e+0, -4.630e-2, 1.520e+0, 5.350e-1]\n",
    "\n",
    "# Call function and print result\n",
    "variance1 = calculate_variance(list1)\n",
    "variance2 = calculate_variance(list2)\n",
    "\n",
    "print(\"Variance of list1:\", variance1)\n",
    "print(\"Variance of list2:\", variance2)\n",
    "\n",
    "# the variances of both lists should be relatively close to 1 (off by less than .15)\n",
    "\n",
    "\n",
    "list1 = [ 5.670e-1, -1.480e+0, -5.570e-1, -1.470e+0, 7.340e-1, 1.050e+0, 4.480e-1, 2.570e-1, -1.970e+0, -1.460e+0]\n",
    "list2 = [-1.780e+0, 2.640e-1, 1.160e+0, 9.080e-1, 1.780e+0, 1.080e+0, 1.050e+0, -4.630e-2, 1.520e+0, 5.350e-1]\n",
    "# the variances of both lists should be relatively close to 1 (off by less than .15)"
   ]
  },
  {
   "cell_type": "markdown",
   "metadata": {},
   "source": [
    "6. Create a list with at least 15 elements in it. Use list slicing to print the following:\n",
    "* The first 5 elements of the list\n",
    "* The last 5 elements of the list\n",
    "* The list reversed (hint, show the entire list with a stride of -1)\n",
    "* Every second element in the list\n",
    "* Every third element in the list (stride of 3)"
   ]
  },
  {
   "cell_type": "code",
   "execution_count": 46,
   "metadata": {},
   "outputs": [
    {
     "name": "stdout",
     "output_type": "stream",
     "text": [
      "First 5 elements: [10, 20, 30, 40, 50]\n",
      "Last 5 elements: [110, 120, 130, 140, 150]\n",
      "Reversed_list: [150, 140, 130, 120, 110, 100, 90, 80, 70, 60, 50, 40, 30, 20, 10]\n",
      "Every second element: [10, 30, 50, 70, 90, 110, 130, 150]\n",
      "Every third element: [10, 40, 70, 100, 130]\n"
     ]
    }
   ],
   "source": [
    "# Define list\n",
    "Mhamed_list = [10, 20, 30, 40, 50, 60, 70, 80, 90, 100, 110, 120, 130, 140, 150]\n",
    "\n",
    "# The first 5 elements of the list\n",
    "first_five = Mhamed_list[:5]\n",
    "print(\"First 5 elements:\", first_five)  \n",
    "\n",
    "# The last 5 elements of the list\n",
    "last_five = Mhamed_list[-5:]\n",
    "print(\"Last 5 elements:\", last_five)\n",
    "\n",
    "# The list reversed\n",
    "reversed_list = Mhamed_list[::-1]\n",
    "print(\"Reversed_list:\", reversed_list)\n",
    "\n",
    "# Every second element in the list\n",
    "every_second = Mhamed_list[::2]\n",
    "print(\"Every second element:\", every_second)\n",
    "\n",
    "# Every third element in the list\n",
    "every_third = Mhamed_list[::3]\n",
    "print(\"Every third element:\", every_third)"
   ]
  },
  {
   "cell_type": "markdown",
   "metadata": {},
   "source": [
    "7. Build a dictionary that contains the following information about this class (with appropriate names as keys):\n",
    "* The name\n",
    "* The course number\n",
    "* The semester/term in which you are taking this course\n",
    "* The number of credit hours this course counts for\n",
    "* A list of the course learning objectives\n",
    "\n",
    "The majority of this information can be found in the syllabus. Print the dictionary."
   ]
  },
  {
   "cell_type": "code",
   "execution_count": 50,
   "metadata": {},
   "outputs": [
    {
     "name": "stdout",
     "output_type": "stream",
     "text": [
      "Course Information:\n",
      "Name: Web Mining & Applied Natural Language Processing\n",
      "Course_number: 44-620 80/81\n",
      "Semester: Fall 2024 - Block 2\n",
      "Credit_hours: 3 Credits\n",
      "Learning_objectives:\n",
      " - Manage Python libraries and packages\n",
      " - Interact with Hosted Version Control Systems (e.g. Git and GitHub)\n",
      " - Programmatically obtain and transform data from web-based APIs and HTML pages into a usable form\n",
      " - Describe the steps in a basic Natural Language Processing Pipeline\n",
      " - Use preexisting tools and software libraries to perform some Natural Language Processing, such as sentiment analysis\n"
     ]
    }
   ],
   "source": [
    "# Dictionary that contain course information\n",
    "course_info = {\n",
    "    \"Name\": \"Web Mining & Applied Natural Language Processing\",\n",
    "    \"Course_number\": \"44-620 80/81\",\n",
    "    \"Semester\": \"Fall 2024 - Block 2\",\n",
    "    \"Credit_hours\": \"3 Credits\",\n",
    "    \"Learning_objectives\": [\n",
    "        \"Manage Python libraries and packages\",\n",
    "        \"Interact with Hosted Version Control Systems (e.g. Git and GitHub)\",\n",
    "        \"Programmatically obtain and transform data from web-based APIs and HTML pages into a usable form\",\n",
    "        \"Describe the steps in a basic Natural Language Processing Pipeline\",\n",
    "        \"Use preexisting tools and software libraries to perform some Natural Language Processing, such as sentiment analysis\"\n",
    "    ]\n",
    "}\n",
    "\n",
    "# Print the course information as a list\n",
    "print(\"Course Information:\")\n",
    "for key, value in course_info.items():\n",
    "    if isinstance(value, list):\n",
    "        print(f\"{key}:\")\n",
    "        for item in value:\n",
    "            print(f\" - {item}\")\n",
    "    else:\n",
    "        print(f\"{key}: {value}\")"
   ]
  },
  {
   "cell_type": "markdown",
   "metadata": {},
   "source": [
    "8.  Given the dictionary defined in the code cell below, print the list of level 3 spells the character has."
   ]
  },
  {
   "cell_type": "code",
   "execution_count": 51,
   "metadata": {},
   "outputs": [
    {
     "name": "stdout",
     "output_type": "stream",
     "text": [
      "Level 3 Spells the character: ['Mass Healing Word', 'Nondetection', 'Revivify', 'Feign Death', 'Speak with Dead']\n"
     ]
    }
   ],
   "source": [
    "player_character = {'name': 'Kitab',\n",
    "                   'class': [('Cleric: Knowledge', 7)],\n",
    "                   'spells': {'cantrip': ['Guidance', 'Light', 'Thaumaturgy', 'Toll the Dead', 'Word of Radiance'],\n",
    "                             'level 1': ['Command', 'Detect Magic', 'Healing Word', 'Identify', 'Sleep'],\n",
    "                             'level 2': ['Augury', 'Calm Emotions', 'Command', 'Invisibility', 'Lesser Restoration'],\n",
    "                             'level 3': ['Mass Healing Word', 'Nondetection', 'Revivify', 'Feign Death', 'Speak with Dead'],\n",
    "                             'level 4': ['Banishment', 'Confusion']}\n",
    "                   }\n",
    "\n",
    "# Print the list of level 3 spells the characte\n",
    "level_3_spells = player_character ['spells']['level 3']\n",
    "print (\"Level 3 Spells the character:\", level_3_spells)"
   ]
  },
  {
   "cell_type": "markdown",
   "metadata": {},
   "source": [
    "9. Write code to determine the number of unique elements in the list below.  You MUST use a set in finding your solution.  Print the number of unique values in the list with an appropriate label."
   ]
  },
  {
   "cell_type": "code",
   "execution_count": 53,
   "metadata": {},
   "outputs": [
    {
     "name": "stdout",
     "output_type": "stream",
     "text": [
      "The number of unique values in the list: 12\n"
     ]
    }
   ],
   "source": [
    "# The list of values\n",
    "values = [10, 11, 10, 8, 1, 12, 0, 1, 6, 5, 5, 13, 6, 15, 0, 0, 1, 1, 9, 7]\n",
    "\n",
    "# Using a set to find unique values\n",
    "unique_values = set(values)\n",
    "\n",
    "# Printing the number of unique values\n",
    "print(f\"The number of unique values in the list: {len(unique_values)}\")"
   ]
  },
  {
   "cell_type": "markdown",
   "metadata": {},
   "source": [
    "10. Create a new Jupyter Notebook (the name of the notebook should be your S number). Add a Markdown cell that contains your name. Add a Code cell and write Python that uses loops to draw the following pattern:\n",
    "\n",
    "```\n",
    "*      *\n",
    "**    **\n",
    "***  ***\n",
    "********\n",
    "```\n",
    "Make sure to add and submit both the new notebook and the changes to this notebook for this assignment."
   ]
  },
  {
   "cell_type": "markdown",
   "metadata": {},
   "source": [
    "Mhamed Maatou\n",
    "\n",
    "Course_Name: Web Mining & Applied Natural Language Processing\n",
    "\n",
    "Course_number: 44-620 "
   ]
  },
  {
   "cell_type": "code",
   "execution_count": 1,
   "metadata": {},
   "outputs": [
    {
     "name": "stdout",
     "output_type": "stream",
     "text": [
      "*      *\n",
      "**    **\n",
      "***  ***\n",
      "********\n"
     ]
    }
   ],
   "source": [
    "# Draw the specified pattern\n",
    "rows = 4  # Number of rows for the pattern\n",
    "\n",
    "for i in range(1, rows + 1):\n",
    "    # Print left stars\n",
    "    print('*' * i, end='')  \n",
    "    \n",
    "    # Print spaces in between\n",
    "    print(' ' * (2 * (rows - i)), end='')  \n",
    "    \n",
    "    # Print right stars\n",
    "    print('*' * i)"
   ]
  }
 ],
 "metadata": {
  "kernelspec": {
   "display_name": "Python 3",
   "language": "python",
   "name": "python3"
  },
  "language_info": {
   "codemirror_mode": {
    "name": "ipython",
    "version": 3
   },
   "file_extension": ".py",
   "mimetype": "text/x-python",
   "name": "python",
   "nbconvert_exporter": "python",
   "pygments_lexer": "ipython3",
   "version": "3.13.0"
  }
 },
 "nbformat": 4,
 "nbformat_minor": 4
}
