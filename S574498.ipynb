{
 "cells": [
  {
   "cell_type": "markdown",
   "metadata": {},
   "source": [
    "Mhamed Maatou\n",
    "\n",
    "Course_Name: Web Mining & Applied Natural Language Processing\n",
    "\n",
    "Course_number: 44-620 "
   ]
  },
  {
   "cell_type": "code",
   "execution_count": 2,
   "metadata": {},
   "outputs": [
    {
     "name": "stdout",
     "output_type": "stream",
     "text": [
      "*      *\n",
      "**    **\n",
      "***  ***\n",
      "********\n"
     ]
    }
   ],
   "source": [
    "# Draw the specified pattern\n",
    "rows = 4  # Number of rows for the pattern\n",
    "\n",
    "for i in range(1, rows + 1):\n",
    "    # Print left stars\n",
    "    print('*' * i, end='')  \n",
    "    \n",
    "    # Print spaces in between\n",
    "    print(' ' * (2 * (rows - i)), end='')  \n",
    "    \n",
    "    # Print right stars\n",
    "    print('*' * i)"
   ]
  }
 ],
 "metadata": {
  "kernelspec": {
   "display_name": "Python 3",
   "language": "python",
   "name": "python3"
  },
  "language_info": {
   "codemirror_mode": {
    "name": "ipython",
    "version": 3
   },
   "file_extension": ".py",
   "mimetype": "text/x-python",
   "name": "python",
   "nbconvert_exporter": "python",
   "pygments_lexer": "ipython3",
   "version": "3.13.0"
  }
 },
 "nbformat": 4,
 "nbformat_minor": 2
}
